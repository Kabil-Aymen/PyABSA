﻿{
 "cells": [
  {
   "cell_type": "markdown",
   "source": [
    "# Aspect Sentiment Classification"
   ],
   "metadata": {
    "collapsed": false
   }
  },
  {
   "cell_type": "markdown",
   "source": [
    "## Flask Server"
   ],
   "metadata": {
    "collapsed": false
   }
  },
  {
   "cell_type": "code",
   "execution_count": null,
   "outputs": [],
   "source": [
    "!pip install pyabsa\n",
    "!pip install flask"
   ],
   "metadata": {
    "collapsed": false
   }
  },
  {
   "cell_type": "code",
   "execution_count": 1,
   "outputs": [
    {
     "name": "stderr",
     "output_type": "stream",
     "text": [
      "C:\\Users\\chuan\\miniconda3\\lib\\site-packages\\torch\\utils\\tensorboard\\__init__.py:4: DeprecationWarning: distutils Version classes are deprecated. Use packaging.version instead.\n",
      "  if not hasattr(tensorboard, \"__version__\") or LooseVersion(\n"
     ]
    },
    {
     "name": "stdout",
     "output_type": "stream",
     "text": [
      "[2023-03-12 18:52:38] (2.1.6) \u001B[31mPyABSA(2.1.6): \n",
      "[New Feature] Aspect Sentiment Triplet Extraction from v2.1.0 test version (https://github.com/yangheng95/PyABSA/tree/v2/examples-v2/aspect_sentiment_triplet_extration)\n",
      "\n",
      "If you find any problems, please report them on GitHub. Thanks!\n",
      "The v2.x versions are not compatible with Google Colab. Please downgrade to 1.16.27.\n",
      "\u001B[0m\n",
      " * Serving Flask app '__main__'\n",
      " * Debug mode: on\n"
     ]
    },
    {
     "name": "stderr",
     "output_type": "stream",
     "text": [
      "C:\\Users\\chuan\\miniconda3\\lib\\multiprocessing\\pool.py:268: ResourceWarning: unclosed running multiprocessing pool <multiprocessing.pool.Pool state=RUN pool_size=1>\n",
      "  _warn(f\"unclosed running multiprocessing pool {self!r}\",\n",
      "ResourceWarning: Enable tracemalloc to get the object allocation traceback\n",
      "C:\\Users\\chuan\\miniconda3\\lib\\site-packages\\werkzeug\\serving.py:718: ResourceWarning: unclosed <socket.socket fd=5888, family=AddressFamily.AF_INET, type=SocketKind.SOCK_STREAM, proto=0>\n",
      "  self.socket = socket.fromfd(fd, address_family, socket.SOCK_STREAM)\n",
      "ResourceWarning: Enable tracemalloc to get the object allocation traceback\n",
      "WARNING: This is a development server. Do not use it in a production deployment. Use a production WSGI server instead.\n",
      " * Running on http://127.0.0.1:5000\n",
      "Press CTRL+C to quit\n",
      " * Restarting with stat\n"
     ]
    },
    {
     "ename": "SystemExit",
     "evalue": "1",
     "output_type": "error",
     "traceback": [
      "An exception has occurred, use %tb to see the full traceback.\n",
      "\u001B[1;31mSystemExit\u001B[0m\u001B[1;31m:\u001B[0m 1\n"
     ]
    },
    {
     "name": "stderr",
     "output_type": "stream",
     "text": [
      "C:\\Users\\chuan\\miniconda3\\lib\\site-packages\\IPython\\core\\interactiveshell.py:3468: UserWarning: To exit: use 'exit', 'quit', or Ctrl-D.\n",
      "  warn(\"To exit: use 'exit', 'quit', or Ctrl-D.\", stacklevel=1)\n"
     ]
    }
   ],
   "source": [
    "from flask import Flask, request, jsonify\n",
    "from pyabsa import AspectPolarityClassification as APC\n",
    "\n",
    "app = Flask(__name__)\n",
    "\n",
    "\n",
    "@app.route(\"/predict\", methods=[\"POST\"])\n",
    "def predict():\n",
    "    # Load the model\n",
    "    sentiment_classifier = APC.SentimentClassifier(\"multilingual\")\n",
    "\n",
    "    # Get the text from the request\n",
    "    data = request.get_json(force=True)\n",
    "    text = data[\"text\"]\n",
    "\n",
    "    # Predict\n",
    "    result = sentiment_classifier.predict(text)\n",
    "\n",
    "    return jsonify(result)\n",
    "\n",
    "\n",
    "app.run(port=5000, debug=True)"
   ],
   "metadata": {
    "collapsed": false
   }
  },
  {
   "cell_type": "markdown",
   "source": [
    "## API Request"
   ],
   "metadata": {
    "collapsed": false
   }
  },
  {
   "cell_type": "code",
   "execution_count": null,
   "outputs": [],
   "source": [
    "import requests\n",
    "import json\n",
    "\n",
    "url = \"http://localhost:5000/predict\"\n",
    "data = {\"text\": \"The [B-ASP]food[E-ASP] is good, but the [B-ASP]service[E-ASP] is bad.\"}\n",
    "headers = {\"Content-type\": \"application/json\", \"Accept\": \"text/plain\"}\n",
    "r = requests.post(url, data=json.dumps(data), headers=headers)\n",
    "print(r.text)"
   ],
   "metadata": {
    "collapsed": false,
    "pycharm": {
     "is_executing": true
    }
   }
  }
 ],
 "metadata": {
  "kernelspec": {
   "display_name": "Python 3",
   "language": "python",
   "name": "python3"
  },
  "language_info": {
   "codemirror_mode": {
    "name": "ipython",
    "version": 2
   },
   "file_extension": ".py",
   "mimetype": "text/x-python",
   "name": "python",
   "nbconvert_exporter": "python",
   "pygments_lexer": "ipython2",
   "version": "2.7.6"
  }
 },
 "nbformat": 4,
 "nbformat_minor": 0
}
