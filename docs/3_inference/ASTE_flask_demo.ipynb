﻿{
 "cells": [
  {
   "cell_type": "markdown",
   "source": [
    "# Aspect setiment triplet extraction"
   ],
   "metadata": {
    "collapsed": false
   }
  },
  {
   "cell_type": "markdown",
   "source": [
    "## Flask Server"
   ],
   "metadata": {
    "collapsed": false
   }
  },
  {
   "cell_type": "code",
   "execution_count": null,
   "outputs": [],
   "source": [
    "!pip install pyabsa\n",
    "!pip install flask"
   ],
   "metadata": {
    "collapsed": false
   }
  },
  {
   "cell_type": "code",
   "execution_count": 3,
   "outputs": [
    {
     "name": "stdout",
     "output_type": "stream",
     "text": [
      " * Serving Flask app '__main__'\n",
      " * Debug mode: on\n"
     ]
    },
    {
     "name": "stderr",
     "output_type": "stream",
     "text": [
      "C:\\Users\\chuan\\miniconda3\\lib\\site-packages\\werkzeug\\serving.py:718: ResourceWarning: unclosed <socket.socket fd=1632, family=AddressFamily.AF_INET, type=SocketKind.SOCK_STREAM, proto=0>\n",
      "  self.socket = socket.fromfd(fd, address_family, socket.SOCK_STREAM)\n",
      "ResourceWarning: Enable tracemalloc to get the object allocation traceback\n",
      "WARNING: This is a development server. Do not use it in a production deployment. Use a production WSGI server instead.\n",
      " * Running on http://127.0.0.1:5000\n",
      "Press CTRL+C to quit\n",
      " * Restarting with stat\n"
     ]
    },
    {
     "ename": "SystemExit",
     "evalue": "1",
     "output_type": "error",
     "traceback": [
      "An exception has occurred, use %tb to see the full traceback.\n",
      "\u001B[1;31mSystemExit\u001B[0m\u001B[1;31m:\u001B[0m 1\n"
     ]
    }
   ],
   "source": [
    "from flask import Flask, request, jsonify\n",
    "from pyabsa import AspectSentimentTripletExtraction as ASTE\n",
    "\n",
    "app = Flask(__name__)\n",
    "\n",
    "\n",
    "@app.route(\"/predict\", methods=[\"POST\"])\n",
    "def predict():\n",
    "    # Load the model\n",
    "    triplet_extractor = ASTE.AspectSentimentTripletExtractor(\"multilingual\")\n",
    "\n",
    "    # Get the text from the request\n",
    "    data = request.get_json(force=True)\n",
    "    text = data[\"text\"]\n",
    "\n",
    "    # Predict\n",
    "    result = triplet_extractor.predict(text)\n",
    "\n",
    "    return jsonify(result)\n",
    "\n",
    "\n",
    "app.run(port=6000, debug=True)"
   ],
   "metadata": {
    "collapsed": false
   }
  },
  {
   "cell_type": "markdown",
   "source": [
    "# API Request"
   ],
   "metadata": {
    "collapsed": false
   }
  },
  {
   "cell_type": "code",
   "execution_count": 4,
   "outputs": [
    {
     "name": "stdout",
     "output_type": "stream",
     "text": [
      "{\n",
      "  \"Triplets\": [\n",
      "    {\n",
      "      \"Aspect\": \"food\",\n",
      "      \"Opinion\": \"good,\",\n",
      "      \"Polarity\": \"Positive\"\n",
      "    },\n",
      "    {\n",
      "      \"Aspect\": \"food\",\n",
      "      \"Opinion\": \"bad.\",\n",
      "      \"Polarity\": \"Negative\"\n",
      "    },\n",
      "    {\n",
      "      \"Aspect\": \"service\",\n",
      "      \"Opinion\": \"good,\",\n",
      "      \"Polarity\": \"Positive\"\n",
      "    },\n",
      "    {\n",
      "      \"Aspect\": \"service\",\n",
      "      \"Opinion\": \"bad.\",\n",
      "      \"Polarity\": \"Negative\"\n",
      "    }\n",
      "  ],\n",
      "  \"True Triplets\": [],\n",
      "  \"sentence\": \"The food is good, but the service is bad.\",\n",
      "  \"sentence_id\": 0\n",
      "}\n",
      "\n"
     ]
    }
   ],
   "source": [
    "import requests\n",
    "import json\n",
    "\n",
    "url = \"http://localhost:5000/predict\"\n",
    "data = {\"text\": \"The food is good, but the service is bad.\"}\n",
    "headers = {\"Content-type\": \"application/json\", \"Accept\": \"text/plain\"}\n",
    "r = requests.post(url, data=json.dumps(data), headers=headers)\n",
    "print(r.text)"
   ],
   "metadata": {
    "collapsed": false
   }
  }
 ],
 "metadata": {
  "kernelspec": {
   "display_name": "Python 3",
   "language": "python",
   "name": "python3"
  },
  "language_info": {
   "codemirror_mode": {
    "name": "ipython",
    "version": 2
   },
   "file_extension": ".py",
   "mimetype": "text/x-python",
   "name": "python",
   "nbconvert_exporter": "python",
   "pygments_lexer": "ipython2",
   "version": "2.7.6"
  }
 },
 "nbformat": 4,
 "nbformat_minor": 0
}
